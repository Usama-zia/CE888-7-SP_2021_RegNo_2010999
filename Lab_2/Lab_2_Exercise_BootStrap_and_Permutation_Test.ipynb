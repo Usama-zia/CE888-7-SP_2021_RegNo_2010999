{
  "nbformat": 4,
  "nbformat_minor": 0,
  "metadata": {
    "colab": {
      "name": "Lab_2_Exercise_BootStrap_and_Permutation_Test.ipynb",
      "provenance": [],
      "collapsed_sections": [],
      "include_colab_link": true
    },
    "kernelspec": {
      "display_name": "Python 3",
      "language": "python",
      "name": "python3"
    },
    "language_info": {
      "codemirror_mode": {
        "name": "ipython",
        "version": 3
      },
      "file_extension": ".py",
      "mimetype": "text/x-python",
      "name": "python",
      "nbconvert_exporter": "python",
      "pygments_lexer": "ipython3",
      "version": "3.7.6"
    },
    "pycharm": {
      "stem_cell": {
        "cell_type": "raw",
        "metadata": {
          "collapsed": false
        },
        "source": []
      }
    }
  },
  "cells": [
    {
      "cell_type": "markdown",
      "metadata": {
        "id": "view-in-github",
        "colab_type": "text"
      },
      "source": [
        "<a href=\"https://colab.research.google.com/github/Usama-zia/CE888-7-SP_2021_RegNo_2010999/blob/main/Lab_2/Lab_2_Exercise_BootStrap_and_Permutation_Test.ipynb\" target=\"_parent\"><img src=\"https://colab.research.google.com/assets/colab-badge.svg\" alt=\"Open In Colab\"/></a>"
      ]
    },
    {
      "cell_type": "markdown",
      "metadata": {
        "id": "nCi_99yMYIb1"
      },
      "source": [
        "In this notebook you'll create your own bootstrap function following the bootstrap algorithm (check the lecture notes!)"
      ]
    },
    {
      "cell_type": "code",
      "metadata": {
        "id": "LY5zujI2YC37",
        "colab": {
          "base_uri": "https://localhost:8080/"
        },
        "outputId": "e174f9d4-0009-4fa7-e980-4604dac1cc79"
      },
      "source": [
        "import matplotlib\n",
        "import pandas as pd\n",
        "import seaborn as sns\n",
        "import numpy as np\n",
        "print(\"version is \", np.__version__)\n",
        "\n"
      ],
      "execution_count": 75,
      "outputs": [
        {
          "output_type": "stream",
          "text": [
            "version is  1.19.5\n"
          ],
          "name": "stdout"
        }
      ]
    },
    {
      "cell_type": "code",
      "metadata": {
        "colab": {
          "base_uri": "https://localhost:8080/"
        },
        "id": "Eqkwj4SMY38t",
        "outputId": "f56ec11b-f6b9-4af6-f626-0ed4bd60d86b"
      },
      "source": [
        "# Load the data\n",
        "df = pd.read_csv('https://raw.githubusercontent.com/albanda/CE888/master/lab2%20-%20bootstrap/customers.csv')\n",
        "data = df.values.T[1]\n",
        "print(data)"
      ],
      "execution_count": 76,
      "outputs": [
        {
          "output_type": "stream",
          "text": [
            "[ 2.  8. 20. 13.  5.  9. 10.  8. 22. 10.  2.  4.  7.  9.]\n"
          ],
          "name": "stdout"
        }
      ]
    },
    {
      "cell_type": "code",
      "metadata": {
        "id": "Gxvc_bScYC4H"
      },
      "source": [
        "# Checking the notes from the lecture, create here your own bootstrap function:\n",
        "# 1. Sample from the input array x to create an array of samples of shape (n_bootstraps, sample_size)\n",
        "# Hint: Check the function random.choice() on Numpy\n",
        "# 2. Calculate and save the mean of the array (this is \"data_mean\" that is returned by the function)\n",
        "# 3. Calculate the mean from each bootstrap (i.e., row) and store it.\n",
        "# (This should be an array of n_bootstraps values)\n",
        "# 4. Calculate the lower and upper bounds for a 95% CI (hint: check the percentile function on Numpy)\n",
        "# 5. Return data_mean, and the lower and upper bounds of your interval\n",
        "def avg(marks):\n",
        "  # YOUR CODE HERE\n",
        "  total_sum = 0\n",
        "  for num in marks:\n",
        "    total_sum = total_sum + num\n",
        "    avg = total_sum / marks.shape[0]\n",
        "  return avg\n",
        "\n",
        "def bootstrap_mean(x, sample_size, n_bootstraps):\n",
        "\t# <---INSERT YOUR CODE HERE--->\n",
        "  value = []  # used to save every bootstrapped mean value\n",
        "  count = 0\n",
        " \n",
        "  #This section of code is used to find\n",
        "  #lower and upper percentile for \n",
        "  #95% confidence interval\n",
        "  CI = 95\n",
        "  t_perc = 100 - CI \n",
        "  lower_perc = t_perc / 2\n",
        "  upper_perc = CI + lower_perc\n",
        "  \n",
        "  #Used to find basic mean\n",
        "  data_mean = avg(x)\n",
        "  \n",
        "  #used to find every bootstrapped mean value\n",
        "  while count < n_bootstraps:\n",
        "    np.random.seed(count)\n",
        "    new_arr = np.random.choice(a = x, size = sample_size)\n",
        "    value.append(avg(new_arr))\n",
        "    count += 1\n",
        "\n",
        "  lower = np.percentile(value, lower_perc)\n",
        "  upper = np.percentile(value, upper_perc)\n",
        "  return data_mean, lower, upper\n"
      ],
      "execution_count": 77,
      "outputs": []
    },
    {
      "cell_type": "code",
      "metadata": {
        "id": "AN7sEOcMYC4P"
      },
      "source": [
        "# Call your bootstrap function and plot the results\n",
        "\n",
        "boots = []\n",
        "for i in range(100, 50000, 1000):\n",
        "    boot = bootstrap_mean(data, data.shape[0], i)\n",
        "    boots.append([i, boot[0], \"mean\"])\n",
        "    boots.append([i, boot[1], \"lower\"])\n",
        "    boots.append([i, boot[2], \"upper\"])\n",
        "\n",
        "df_boot = pd.DataFrame(boots, columns=['Bootstrap Iterations', 'Mean', \"Value\"])\n",
        "sns_plot = sns.lmplot(df_boot.columns[0], df_boot.columns[1], data=df_boot, fit_reg=False, hue=\"Value\")\n",
        "\n",
        "sns_plot.axes[0, 0].set_ylim(0,)\n",
        "sns_plot.axes[0, 0].set_xlim(0, 100000)\n"
      ],
      "execution_count": null,
      "outputs": []
    },
    {
      "cell_type": "markdown",
      "metadata": {
        "id": "MjtP4e2_YC4V"
      },
      "source": [
        "\n",
        "Now, modify the bootstrap function you created above so that you can pass your desired confidence interval as a parameter.\n",
        "\n"
      ]
    },
    {
      "cell_type": "code",
      "metadata": {
        "id": "3K9j0FuGYhHs"
      },
      "source": [
        "def bootstrap_mean_ci(sample, sample_size, n_bootstraps, ci):\n",
        "\t# <---INSERT YOUR CODE HERE--->\n",
        "  value = []  # used to save every bootstrapped mean value\n",
        "  count = 0\n",
        " \n",
        "  #This section of code is used to find\n",
        "  #lower and upper percentile for \n",
        "  #95% confidence interval\n",
        "  CI = ci\n",
        "  t_perc = 100 - CI \n",
        "  lower_perc = t_perc / 2\n",
        "  upper_perc = CI + lower_perc\n",
        "  #Used to find basic mean\n",
        "  data_mean = np_std(sample)\n",
        "  \n",
        "  #used to find every bootstrapped mean value\n",
        "  while count < n_bootstraps:\n",
        "    np.random.seed(count)\n",
        "    new_arr = np.random.choice(a = sample, size = sample_size)\n",
        "    value.append(np.std(new_arr))\n",
        "    count += 1\n",
        "\n",
        "  lower = np.percentile(value, lower_perc)\n",
        "  upper = np.percentile(value, upper_perc)\n",
        "  return data_mean, lower, upper"
      ],
      "execution_count": 78,
      "outputs": []
    },
    {
      "cell_type": "code",
      "metadata": {
        "id": "uDnjq08GYl-C"
      },
      "source": [
        "boots = []\n",
        "for i in range(100, 50000, 1000):\n",
        "    boot = bootstrap_mean_ci(data, data.shape[0], i, 80)\n",
        "    boots.append([i, boot[0], \"mean\"])\n",
        "    boots.append([i, boot[1], \"lower\"])\n",
        "    boots.append([i, boot[2], \"upper\"])\n",
        "\n",
        "df_boot = pd.DataFrame(boots, columns=['Boostrap Iterations', 'Mean', \"Value\"])\n",
        "sns_plot = sns.lmplot(df_boot.columns[0], df_boot.columns[1], data=df_boot, fit_reg=False, hue=\"Value\")\n",
        "\n",
        "sns_plot.axes[0, 0].set_ylim(0,)\n",
        "sns_plot.axes[0, 0].set_xlim(0, 100000)\n",
        "\n",
        "#sns_plot.savefig(\"bootstrap_confidence_80.pdf\", bbox_inches='tight')\n"
      ],
      "execution_count": null,
      "outputs": []
    },
    {
      "cell_type": "code",
      "metadata": {
        "id": "jnEkfV43b7yX"
      },
      "source": [
        "print(bootstrap_mean_ci(data, data.shape[0], 10000, 90))"
      ],
      "execution_count": null,
      "outputs": []
    },
    {
      "cell_type": "markdown",
      "metadata": {
        "id": "qjNgXW6wdd7r"
      },
      "source": [
        "# Vehicles dataset\n",
        "\n",
        "Now let's work on a different dataset, which is stored in the vehicles.csv file.\n"
      ]
    },
    {
      "cell_type": "code",
      "metadata": {
        "id": "avWv4ipFdpka"
      },
      "source": [
        "# Load and visualise the vehicles dataset\n",
        "# To load the dataset: https://neptune.ai/blog/google-colab-dealing-with-files (check section \"Load individual files directly from GitHub\")\n",
        "# Note that the current and new fleets are in different columns and have different lengths, so bear this in mind when you're plotting.\n",
        "# You can create separate scatterplots for the two fleets, as you would with the histograms, \n",
        "# or plot them both in one plot (but not one against the other).\n",
        "# <---INSERT YOUR CODE HERE--->\n",
        "dfv = pd.read_csv('https://raw.githubusercontent.com/albanda/CE888/master/lab2%20-%20bootstrap/vehicles.csv')\n",
        "dfv_melted = dfv.melt(var_name=\"current&new fleets\",value_name=\"Rating\")\n",
        "sns.relplot(data=dfv_melted, x=\"current&new fleets\", y=\"Rating\", hue=\"current&new fleets\")\n",
        "sns.catplot(data=dfv_melted, kind=\"bar\", x=\"current&new fleets\", y=\"Rating\", hue=\"current&new fleets\", ci=\"sd\", palette=\"dark\", alpha=.6, height=6)\n",
        "sns.displot(data=dfv_melted, x=\"Rating\", col=\"current&new fleets\", kde=True)\n",
        "\n",
        "# Note: you can add more cells as needed to organise your code and your plots\n"
      ],
      "execution_count": null,
      "outputs": []
    },
    {
      "cell_type": "markdown",
      "metadata": {
        "id": "sspcjjDWJWwN"
      },
      "source": [
        "# Removing null values for bootstraping"
      ]
    },
    {
      "cell_type": "code",
      "metadata": {
        "colab": {
          "base_uri": "https://localhost:8080/"
        },
        "id": "cIwzhgX4faKp",
        "outputId": "d1b24b94-877c-410f-b62c-4a05bdfd8ac9"
      },
      "source": [
        "#Removing null or Nan from dataset\r\n",
        "current_fleet = dfv.values.T[0]\r\n",
        "n_fleet = dfv.values.T[1]\r\n",
        "test_fleet = []# removing null\r\n",
        "\r\n",
        "for num in n_fleet:\r\n",
        "  if num >=0:\r\n",
        "    test_fleet.append(num)\r\n",
        "\r\n",
        "new_fleet = np.asarray(test_fleet, dtype = float)"
      ],
      "execution_count": 92,
      "outputs": [
        {
          "output_type": "stream",
          "text": [
            "<class 'list'>\n",
            "<class 'numpy.ndarray'>\n"
          ],
          "name": "stdout"
        }
      ]
    },
    {
      "cell_type": "markdown",
      "metadata": {
        "id": "B5d0tXDpIEj8"
      },
      "source": [
        "## Compare the two fleets\r\n",
        "\r\n",
        "The business analysts come up a comparison algorithm that requires the upper and lower bounds for the mean in order to say which fleet is better.\r\n",
        "1. Calculate the mean of both samples.\r\n",
        "2. Using the bootstrap function that you created:\r\n",
        "    - Construct the 95% CI of the mean of the current fleet.\r\n",
        "    - Construct the 95% CI of the mean of the new fleet.\r\n",
        "    - Are they comparable? (i.e., is one better than the other?) -- you can do this with a permutation test (check the lecture notes!)"
      ]
    },
    {
      "cell_type": "code",
      "metadata": {
        "id": "po4mp6zRHC0m",
        "colab": {
          "base_uri": "https://localhost:8080/"
        },
        "outputId": "ed4722c7-f19b-4e88-957d-c917ac385225"
      },
      "source": [
        "# <---INSERT YOUR CODE HERE--->\n",
        "#calculating 95% CI for the Vechiles dataset\n",
        "c_f = bootstrap_mean_ci(current_fleet, current_fleet.shape[0], 10000, 95)\n",
        "n_f = bootstrap_mean_ci(new_fleet, new_fleet.shape[0], 10000, 95)\n",
        "print(c_f)\n",
        "print(n_f)"
      ],
      "execution_count": 99,
      "outputs": [
        {
          "output_type": "stream",
          "text": [
            "(20.14457831325301, 19.369477911646587, 20.927811244979917)\n",
            "(30.481012658227847, 29.126582278481013, 31.810126582278482)\n"
          ],
          "name": "stdout"
        }
      ]
    },
    {
      "cell_type": "code",
      "metadata": {
        "id": "MkxvDZG4HC0n"
      },
      "source": [
        "# Create your own function for a permutation test here (you will need it for the lab quiz!):\n",
        "def permut_test(sample1, sample2, n_permutations):\n",
        "    \"\"\"\n",
        "    sample1: 1D array\n",
        "    sample2: 1D array (note that the size of the two arrays can be different)\n",
        "    n_permutations: number of permutations to calculate the p-value\n",
        "    \"\"\"\n",
        "    con = 0\n",
        "    n_t = 0\n",
        "    xold = avg(sample1)\n",
        "    xnew = avg(sample2)\n",
        "    tobs = xnew - xold\n",
        "    concat = np.concatenate((sample1, sample2))\n",
        "    while con < n_permutations:\n",
        "      perm = np.random.permutation(concat)\n",
        "      pold = perm[:len(sample1)]\n",
        "      pnew = perm[len(sample1):]\n",
        "      xpold = avg(pold)\n",
        "      xpnew = avg(pnew)\n",
        "      tperm = xpnew - xpold\n",
        "      if tperm > tobs:\n",
        "        n_t+=1\n",
        "      con+=1\n",
        "\n",
        "    pvalue = n_t/n_permutations  \n",
        "\n",
        "    return pvalue"
      ],
      "execution_count": 109,
      "outputs": []
    },
    {
      "cell_type": "markdown",
      "metadata": {
        "id": "8usT873uojk-"
      },
      "source": [
        "# Use the Permutation Test for Vehicles Dataset"
      ]
    },
    {
      "cell_type": "code",
      "metadata": {
        "colab": {
          "base_uri": "https://localhost:8080/"
        },
        "id": "bM_IJHJ5OZsQ",
        "outputId": "071213a5-2a06-4ada-d83b-35d98c0dcb16"
      },
      "source": [
        "\r\n",
        "o_f = bootstrap_mean_ci(current_fleet, current_fleet.shape[0], 20000, 99)\r\n",
        "nn_f = bootstrap_mean_ci(new_fleet, new_fleet.shape[0], 20000, 99)\r\n",
        "print(permut_test(current_fleet, new_fleet, 30000))\r\n",
        "print(o_f)\r\n",
        "print(nn_f)"
      ],
      "execution_count": 101,
      "outputs": [
        {
          "output_type": "stream",
          "text": [
            "0.0\n",
            "(20.14457831325301, 19.124477911646586, 21.21285140562249)\n",
            "(30.481012658227847, 28.68354430379747, 32.240569620253176)\n"
          ],
          "name": "stdout"
        }
      ]
    },
    {
      "cell_type": "markdown",
      "metadata": {
        "id": "zotdfBzkpLPM"
      },
      "source": [
        "# For Voting Dataset's Bootstrap Mean and Permutation Test"
      ]
    },
    {
      "cell_type": "code",
      "metadata": {
        "colab": {
          "base_uri": "https://localhost:8080/"
        },
        "id": "MD5gJ0x4ioir",
        "outputId": "c0be9f5d-7faf-40c9-d446-2c3e2872c326"
      },
      "source": [
        "# The variables below represent the percentages of democratic votes in Pennsylvania and Ohio (one value for each state).\r\n",
        "dem_share_PA = [60.08, 40.64, 36.07, 41.21, 31.04, 43.78, 44.08, 46.85, 44.71, 46.15, 63.10, 52.20, 43.18, 40.24, 39.92, 47.87, 37.77, 40.11, 49.85, 48.61, 38.62, 54.25, 34.84, 47.75, 43.82, 55.97, 58.23, 42.97, 42.38, 36.11, 37.53, 42.65, 50.96, 47.43, 56.24, 45.60, 46.39, 35.22, 48.56, 32.97, 57.88, 36.05, 37.72, 50.36, 32.12, 41.55, 54.66, 57.81, 54.58, 32.88, 54.37, 40.45, 47.61, 60.49, 43.11, 27.32, 44.03, 33.56, 37.26, 54.64, 43.12, 25.34, 49.79, 83.56, 40.09, 60.81, 49.81]\r\n",
        "dem_share_OH = [56.94, 50.46, 65.99, 45.88, 42.23, 45.26, 57.01, 53.61, 59.10, 61.48, 43.43, 44.69, 54.59, 48.36, 45.89, 48.62, 43.92, 38.23, 28.79, 63.57, 38.07, 40.18, 43.05, 41.56, 42.49, 36.06, 52.76, 46.07, 39.43, 39.26, 47.47, 27.92, 38.01, 45.45, 29.07, 28.94, 51.28, 50.10, 39.84, 36.43, 35.71, 31.47, 47.01, 40.10, 48.76, 31.56, 39.86, 45.31, 35.47, 51.38, 46.33, 48.73, 41.77, 41.32, 48.46, 53.14, 34.01, 54.74, 40.67, 38.96, 46.29, 38.25, 6.80, 31.75, 46.33, 44.90, 33.57, 38.10, 39.67, 40.47, 49.44, 37.62, 36.71, 46.73, 42.20, 53.16, 52.40, 58.36, 68.02, 38.53, 34.58, 69.64, 60.50, 53.53, 36.54, 49.58, 41.97, 38.11]\r\n",
        "dem_share_PA = np.asarray(dem_share_PA, dtype = float)\r\n",
        "dem_share_OH = np.asarray(dem_share_OH, dtype = float)\r\n",
        "PA = bootstrap_mean_ci(dem_share_PA, dem_share_PA.shape[0], 25000, 90)\r\n",
        "OH = bootstrap_mean_ci(dem_share_OH, dem_share_OH.shape[0], 25000, 90)\r\n",
        "print(permut_test(dem_share_OH,dem_share_PA, 20000))\r\n",
        "print(PA)\r\n",
        "print(OH)\r\n"
      ],
      "execution_count": 113,
      "outputs": [
        {
          "output_type": "stream",
          "text": [
            "0.2354\n",
            "(45.476417910447765, 43.55639552238805, 47.476440298507455)\n",
            "(44.31818181818181, 42.58259659090909, 46.019789772727286)\n"
          ],
          "name": "stdout"
        }
      ]
    }
  ]
}