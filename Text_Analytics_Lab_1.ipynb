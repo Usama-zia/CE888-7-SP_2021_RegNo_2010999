{
  "nbformat": 4,
  "nbformat_minor": 0,
  "metadata": {
    "colab": {
      "name": "Text_Analytics_Lab_1.ipynb",
      "provenance": [],
      "collapsed_sections": [],
      "authorship_tag": "ABX9TyNnoJnlev044xotOXyU3O1z",
      "include_colab_link": true
    },
    "kernelspec": {
      "name": "python3",
      "display_name": "Python 3"
    }
  },
  "cells": [
    {
      "cell_type": "markdown",
      "metadata": {
        "id": "view-in-github",
        "colab_type": "text"
      },
      "source": [
        "<a href=\"https://colab.research.google.com/github/Usama-zia/CE888-7-SP_2021_RegNo_2010999/blob/main/Text_Analytics_Lab_1.ipynb\" target=\"_parent\"><img src=\"https://colab.research.google.com/assets/colab-badge.svg\" alt=\"Open In Colab\"/></a>"
      ]
    },
    {
      "cell_type": "markdown",
      "metadata": {
        "id": "r-u2DtT0SUW1"
      },
      "source": [
        "Text Analytics Lab 1"
      ]
    },
    {
      "cell_type": "code",
      "metadata": {
        "colab": {
          "base_uri": "https://localhost:8080/"
        },
        "id": "y0ChaZCMSPsL",
        "outputId": "68d5e9de-3014-4b60-ec98-43081480a5f4"
      },
      "source": [
        "import sklearn\r\n",
        "import numpy as np\r\n",
        "import matplotlib.pyplot as plt\r\n",
        "print(\"This works\")"
      ],
      "execution_count": 55,
      "outputs": [
        {
          "output_type": "stream",
          "text": [
            "This works\n"
          ],
          "name": "stdout"
        }
      ]
    },
    {
      "cell_type": "code",
      "metadata": {
        "colab": {
          "base_uri": "https://localhost:8080/",
          "height": 265
        },
        "id": "ekkYWFbPTC6j",
        "outputId": "538bc650-bc98-4691-8bfc-a3f58f693f7f"
      },
      "source": [
        "#Testing numpy and matplotlib\r\n",
        "\r\n",
        "data = np.array([[1,2],[2,3],[3,4],[4,5],[5,6]])\r\n",
        "\r\n",
        "x = data[:,0]\r\n",
        "\r\n",
        "y = data[:,1]\r\n",
        "\r\n",
        "#for plotting\r\n",
        "plt.scatter(x,y)\r\n",
        "plt.grid(True)\r\n",
        "plt.show()"
      ],
      "execution_count": 56,
      "outputs": [
        {
          "output_type": "display_data",
          "data": {
            "image/png": "[encoded data removed]",
            "text/plain": [
              "<Figure size 432x288 with 1 Axes>"
            ]
          },
          "metadata": {
            "tags": [],
            "needs_background": "light"
          }
        }
      ]
    },
    {
      "cell_type": "markdown",
      "metadata": {
        "id": "Zy27dVaAYa1B"
      },
      "source": [
        "Text Preprocessing with SciKit Learn"
      ]
    },
    {
      "cell_type": "code",
      "metadata": {
        "colab": {
          "base_uri": "https://localhost:8080/"
        },
        "id": "5Yfkz2IxYbxJ",
        "outputId": "b08985f3-21e9-4150-bbdb-767e15a5c576"
      },
      "source": [
        "#Text Preprocessing using Scikit Learn\r\n",
        "from sklearn.feature_extraction.text import CountVectorizer\r\n",
        "vectorizer = CountVectorizer(min_df = 1)\r\n",
        "content = [\"How to format my hard disk\", \" Hard disk format problems \"]\r\n",
        "#fit_transform extracts features/bag of words/same words  occured in all documents or tokanize\r\n",
        "X = vectorizer.fit_transform(content)\r\n",
        "vectorizer.get_feature_names()\r\n",
        "#X.toarray()\r\n",
        "#X.toarray()[0]\r\n",
        "#X.toarray()[1,2]from sklearn.feature_extraction.text import CountVectorizer\r\n"
      ],
      "execution_count": 57,
      "outputs": [
        {
          "output_type": "execute_result",
          "data": {
            "text/plain": [
              "['disk', 'format', 'hard', 'how', 'my', 'problems', 'to']"
            ]
          },
          "metadata": {
            "tags": []
          },
          "execution_count": 57
        }
      ]
    },
    {
      "cell_type": "markdown",
      "metadata": {
        "id": "kx6gsruwgCvS"
      },
      "source": [
        "Fetching 20newsgroups dataset"
      ]
    },
    {
      "cell_type": "code",
      "metadata": {
        "colab": {
          "base_uri": "https://localhost:8080/"
        },
        "id": "inLvnARQgHCw",
        "outputId": "13aa2fbe-5205-49df-a447-fd4fcb735607"
      },
      "source": [
        "#fetching the data set\r\n",
        "from sklearn.datasets import fetch_20newsgroups\r\n",
        "#extracting subset of documents with 4 catgories\r\n",
        "categories = ['alt.atheism', 'soc.religion.christian', 'comp.graphics', 'sci.med']\r\n",
        "#importing and training the documents\r\n",
        "twenty_train = fetch_20newsgroups(subset='train', categories=categories,\r\n",
        "shuffle=True, random_state=42)\r\n",
        "print(\"downloading is complete.\")"
      ],
      "execution_count": 58,
      "outputs": [
        {
          "output_type": "stream",
          "text": [
            "downloading is complete.\n"
          ],
          "name": "stdout"
        }
      ]
    },
    {
      "cell_type": "markdown",
      "metadata": {
        "id": "I66kf0M1ivzf"
      },
      "source": [
        "\r\n",
        "\r\n",
        "Text Preprocessing or feature extraction on dataset\r\n"
      ]
    },
    {
      "cell_type": "code",
      "metadata": {
        "id": "3rWXgrn1iuFx",
        "colab": {
          "base_uri": "https://localhost:8080/"
        },
        "outputId": "5b598466-b8af-4a60-c803-fe93c9f8880e"
      },
      "source": [
        "from sklearn.feature_extraction.text import CountVectorizer\r\n",
        "vectorizer = CountVectorizer()\r\n",
        "train_counts = vectorizer.fit_transform(twenty_train.data)\r\n",
        "#vectorizer.vocabulary_.get('algorithm')\r\n",
        "#len(vectorizer.get_feature_names())\r\n",
        "vectorizer = CountVectorizer(stop_words='english')\r\n",
        "sorted(vectorizer.get_stop_words())[:20]"
      ],
      "execution_count": 59,
      "outputs": [
        {
          "output_type": "execute_result",
          "data": {
            "text/plain": [
              "['a',\n",
              " 'about',\n",
              " 'above',\n",
              " 'across',\n",
              " 'after',\n",
              " 'afterwards',\n",
              " 'again',\n",
              " 'against',\n",
              " 'all',\n",
              " 'almost',\n",
              " 'alone',\n",
              " 'along',\n",
              " 'already',\n",
              " 'also',\n",
              " 'although',\n",
              " 'always',\n",
              " 'am',\n",
              " 'among',\n",
              " 'amongst',\n",
              " 'amoungst']"
            ]
          },
          "metadata": {
            "tags": []
          },
          "execution_count": 59
        }
      ]
    },
    {
      "cell_type": "markdown",
      "metadata": {
        "id": "BKXGHOQ9m6BB"
      },
      "source": [
        "Using NLTK for Advanced Preprocessing"
      ]
    },
    {
      "cell_type": "code",
      "metadata": {
        "id": "Pbcu04L9m9_O",
        "colab": {
          "base_uri": "https://localhost:8080/"
        },
        "outputId": "a8301785-7845-488d-8a29-1dbeddf430aa"
      },
      "source": [
        "#using nltk\r\n",
        "import nltk\r\n",
        "from nltk import stem\r\n",
        "s = stem.SnowballStemmer('english')\r\n",
        "s.stem(\"cats\")\r\n",
        "#tokanization\r\n",
        "from nltk.tokenize import word_tokenize\r\n",
        "nltk.download(\"punkt\")\r\n",
        "text = word_tokenize(\"And now for something completely different\")\r\n",
        "print(\"Download is complete.\")\r\n",
        "nltk.download('averaged_perceptron_tagger')\r\n",
        "nltk.download('maxent_treebank_pos_tagger')\r\n",
        "nltk.pos_tag(text)\r\n"
      ],
      "execution_count": 60,
      "outputs": [
        {
          "output_type": "stream",
          "text": [
            "[nltk_data] Downloading package punkt to /root/nltk_data...\n",
            "[nltk_data]   Package punkt is already up-to-date!\n",
            "Download is complete.\n",
            "[nltk_data] Downloading package averaged_perceptron_tagger to\n",
            "[nltk_data]     /root/nltk_data...\n",
            "[nltk_data]   Package averaged_perceptron_tagger is already up-to-\n",
            "[nltk_data]       date!\n",
            "[nltk_data] Downloading package maxent_treebank_pos_tagger to\n",
            "[nltk_data]     /root/nltk_data...\n",
            "[nltk_data]   Package maxent_treebank_pos_tagger is already up-to-\n",
            "[nltk_data]       date!\n"
          ],
          "name": "stdout"
        },
        {
          "output_type": "execute_result",
          "data": {
            "text/plain": [
              "[('And', 'CC'),\n",
              " ('now', 'RB'),\n",
              " ('for', 'IN'),\n",
              " ('something', 'NN'),\n",
              " ('completely', 'RB'),\n",
              " ('different', 'JJ')]"
            ]
          },
          "metadata": {
            "tags": []
          },
          "execution_count": 60
        }
      ]
    },
    {
      "cell_type": "markdown",
      "metadata": {
        "id": "ASWOBxNIrScn"
      },
      "source": [
        "Integrating the NLTK stemmer with SciKit’s vectorizer"
      ]
    },
    {
      "cell_type": "code",
      "metadata": {
        "id": "kZlLDq_9rTkt",
        "colab": {
          "base_uri": "https://localhost:8080/"
        },
        "outputId": "e1bdd35d-747a-4042-8e08-3bee4ef6d282"
      },
      "source": [
        "#Integrating the NLTK stemmer with SciKit’s vectorizer\r\n",
        "from sklearn.feature_extraction.text import CountVectorizer\r\n",
        "vectorizer = CountVectorizer(stop_words='english')\r\n",
        "analyze = vectorizer.build_analyzer()\r\n",
        "analyze(\"John bought carrots and potatoes\")"
      ],
      "execution_count": 61,
      "outputs": [
        {
          "output_type": "execute_result",
          "data": {
            "text/plain": [
              "['john', 'bought', 'carrots', 'potatoes']"
            ]
          },
          "metadata": {
            "tags": []
          },
          "execution_count": 61
        }
      ]
    },
    {
      "cell_type": "markdown",
      "metadata": {
        "id": "KOQBir2jxwPR"
      },
      "source": [
        "Redefining the build_analyzer()"
      ]
    },
    {
      "cell_type": "code",
      "metadata": {
        "id": "VtG7ORBCx4z3"
      },
      "source": [
        "#Redefining the build_Analyzer\r\n",
        "import nltk.stem\r\n",
        "english_stemmer = nltk.stem.SnowballStemmer(\"english\")\r\n",
        "class StemmedCountVectorizer(CountVectorizer):\r\n",
        "  def build_analyzer(self):\r\n",
        "    analyzer = super(StemmedCountVectorizer,self).build_analyzer()\r\n",
        "    return lambda doc: (english_stemmer.stem(w) for w in analyzer (doc))"
      ],
      "execution_count": 67,
      "outputs": []
    },
    {
      "cell_type": "code",
      "metadata": {
        "colab": {
          "base_uri": "https://localhost:8080/"
        },
        "id": "rH5hK01Pz6hw",
        "outputId": "a9c4ec72-1905-426f-e5d7-60a58496fdba"
      },
      "source": [
        "#create an instance of this class\r\n",
        "stem_vectorizer = StemmedCountVectorizer(min_df=1, stop_words=\"english\")\r\n",
        "stem_analyze = stem_vectorizer.build_analyzer()\r\n",
        "#stemmed version of tokens\r\n",
        "Y = stem_analyze(\"John bought carrots and potatoes\")\r\n",
        "print(Y)\r\n",
        "for tok in Y:\r\n",
        "  print(tok)"
      ],
      "execution_count": 72,
      "outputs": [
        {
          "output_type": "stream",
          "text": [
            "<generator object StemmedCountVectorizer.build_analyzer.<locals>.<lambda>.<locals>.<genexpr> at 0x7f81fb61f200>\n",
            "john\n",
            "bought\n",
            "carrot\n",
            "potato\n"
          ],
          "name": "stdout"
        }
      ]
    },
    {
      "cell_type": "code",
      "metadata": {
        "colab": {
          "base_uri": "https://localhost:8080/"
        },
        "id": "jAAIKpKY03-p",
        "outputId": "4efe3dc0-8cd2-476d-abec-8f1c8bc1095e"
      },
      "source": [
        "#using this on 20newsgroup data we get fewer features\r\n",
        "from sklearn.datasets import fetch_20newsgroups\r\n",
        "categories = ['alt.atheism','soc.religion.christian','comp.graphics', 'sci.med']\r\n",
        "twenty_train = fetch_20newsgroups(subset='train', categories=categories, shuffle=True,random_state=42)\r\n",
        "train_counts = stem_vectorizer.fit_transform(twenty_train.data)\r\n",
        "len(stem_vectorizer.get_feature_names())"
      ],
      "execution_count": 73,
      "outputs": [
        {
          "output_type": "execute_result",
          "data": {
            "text/plain": [
              "26888"
            ]
          },
          "metadata": {
            "tags": []
          },
          "execution_count": 73
        }
      ]
    }
  ]
}