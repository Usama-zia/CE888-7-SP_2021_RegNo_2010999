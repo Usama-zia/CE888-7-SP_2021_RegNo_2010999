{
  "nbformat": 4,
  "nbformat_minor": 0,
  "metadata": {
    "colab": {
      "name": "Exercise2_DogvsCat_CNN.ipynb",
      "provenance": [],
      "toc_visible": true,
      "include_colab_link": true
    },
    "kernelspec": {
      "name": "python3",
      "display_name": "Python 3"
    },
    "accelerator": "GPU"
  },
  "cells": [
    {
      "cell_type": "markdown",
      "metadata": {
        "id": "view-in-github",
        "colab_type": "text"
      },
      "source": [
        "<a href=\"https://colab.research.google.com/github/Usama-zia/CE888-7-SP_2021_RegNo_2010999/blob/main/Lab7/Exercise2_DogvsCat_CNN.ipynb\" target=\"_parent\"><img src=\"https://colab.research.google.com/assets/colab-badge.svg\" alt=\"Open In Colab\"/></a>"
      ]
    },
    {
      "cell_type": "markdown",
      "metadata": {
        "id": "qTh9DiKVslsJ"
      },
      "source": [
        "## Dogs vs. Cats \n",
        "\n",
        "In this competition, you'll write an algorithm to classify whether images contain either a dog or a cat.  This is easy for humans, dogs, and cats. Your computer will find it a bit more difficult.\n",
        "\n",
        "![alt text](https://miro.medium.com/max/3000/1*bhFifratH9DjKqMBTeQG5A.gif)\n",
        "\n",
        "Ref: https://medium.com/@thegrigorian/rolling-in-the-deep-cnn-c8d3f7108c8c"
      ]
    },
    {
      "cell_type": "markdown",
      "metadata": {
        "id": "RSBI-_mSSY1g"
      },
      "source": [
        "Get your API Key from Kaggle using following steps:\n",
        "1. Login to [Kaggle](https://www.kaggle.com/) or Register if you don't have account\n",
        "2. Open Dataset (https://www.kaggle.com/c/dogs-vs-cats/rules) and accept terms and condition. \n",
        "3. On the top right corner click on your Icon and go to accounts and press a button \"Create New API Token\". It will download a JSON file containing your username and key. \n",
        "4. Now, paste both below. \n"
      ]
    },
    {
      "cell_type": "code",
      "metadata": {
        "id": "YmXSOc0tZIGA",
        "colab": {
          "base_uri": "https://localhost:8080/"
        },
        "outputId": "3433bcbc-ee57-4f49-ffbd-eabff454596d"
      },
      "source": [
        "import os\n",
        "os.environ['KAGGLE_USERNAME'] = \"usamamuhammadi\" # username from the json file\n",
        "os.environ['KAGGLE_KEY'] = \"928f2c31465ef1043545e56d71cc32c5\" # key from the json file\n",
        "!kaggle competitions download -c dogs-vs-cats # api copied from kaggle (https://www.kaggle.com/c/dogs-vs-cats/data)"
      ],
      "execution_count": 1,
      "outputs": [
        {
          "output_type": "stream",
          "text": [
            "Warning: Looks like you're using an outdated API Version, please consider updating (server 1.5.12 / client 1.5.4)\n",
            "Downloading test1.zip to /content\n",
            " 97% 264M/271M [00:02<00:00, 102MB/s] \n",
            "100% 271M/271M [00:02<00:00, 113MB/s]\n",
            "Downloading sampleSubmission.csv to /content\n",
            "  0% 0.00/86.8k [00:00<?, ?B/s]\n",
            "100% 86.8k/86.8k [00:00<00:00, 41.5MB/s]\n",
            "Downloading train.zip to /content\n",
            " 98% 534M/543M [00:03<00:00, 143MB/s]\n",
            "100% 543M/543M [00:04<00:00, 141MB/s]\n"
          ],
          "name": "stdout"
        }
      ]
    },
    {
      "cell_type": "code",
      "metadata": {
        "id": "PiwIL8d1n7eS",
        "colab": {
          "base_uri": "https://localhost:8080/"
        },
        "outputId": "5551ca0d-b05f-430e-dbd8-8d8c6178654d"
      },
      "source": [
        "# Unzip training data\n",
        "from zipfile import ZipFile\n",
        "file_name = \"/content/train.zip\"\n",
        "with ZipFile(file_name, 'r') as zip:\n",
        "  zip.extractall()\n",
        "  print('done')"
      ],
      "execution_count": 2,
      "outputs": [
        {
          "output_type": "stream",
          "text": [
            "done\n"
          ],
          "name": "stdout"
        }
      ]
    },
    {
      "cell_type": "code",
      "metadata": {
        "id": "sa2Bj5i7pPKV",
        "colab": {
          "base_uri": "https://localhost:8080/"
        },
        "outputId": "30227b1f-8ee8-47f6-8c08-494c65387702"
      },
      "source": [
        "# Get all the paths\n",
        "data_dir_list = os.listdir('/content/train')\n",
        "#print(data_dir_list)\n",
        "path, dirs, files = next(os.walk(\"/content/train\"))\n",
        "file_count = len(files)\n",
        "print(file_count)"
      ],
      "execution_count": 3,
      "outputs": [
        {
          "output_type": "stream",
          "text": [
            "25000\n"
          ],
          "name": "stdout"
        }
      ]
    },
    {
      "cell_type": "code",
      "metadata": {
        "id": "0ERlHkfHqpK8"
      },
      "source": [
        "# Make new base directory\n",
        "original_dataset_dir = '/content/train'\n",
        "base_dir = '/content/cats_and_dogs_small'\n",
        "os.mkdir(base_dir)"
      ],
      "execution_count": 4,
      "outputs": []
    },
    {
      "cell_type": "code",
      "metadata": {
        "id": "AANB1UJ6rQhM"
      },
      "source": [
        "train_dir = os.path.join(base_dir, 'train')\n",
        "os.mkdir(train_dir)\n",
        "\n",
        "validation_dir = os.path.join(base_dir, 'validation')\n",
        "os.mkdir(validation_dir)\n",
        "\n",
        "test_dir = os.path.join(base_dir, 'test')\n",
        "os.mkdir(test_dir)\n",
        "\n",
        "train_cats_dir = os.path.join(train_dir, 'cats')\n",
        "os.mkdir(train_cats_dir)\n",
        "\n",
        "train_dogs_dir = os.path.join(train_dir, 'dogs')\n",
        "os.mkdir(train_dogs_dir)\n",
        "\n",
        "validation_cats_dir = os.path.join(validation_dir, 'cats')\n",
        "os.mkdir(validation_cats_dir)\n",
        "\n",
        "validation_dogs_dir = os.path.join(validation_dir, 'dogs')\n",
        "os.mkdir(validation_dogs_dir)\n",
        "\n",
        "test_cats_dir = os.path.join(test_dir, 'cats')\n",
        "os.mkdir(test_cats_dir)\n",
        "\n",
        "test_dogs_dir = os.path.join(test_dir, 'dogs')\n",
        "os.mkdir(test_dogs_dir)"
      ],
      "execution_count": 5,
      "outputs": []
    },
    {
      "cell_type": "code",
      "metadata": {
        "id": "ULRgL9s9rV8T"
      },
      "source": [
        "import shutil\n",
        "fnames = ['cat.{}.jpg'.format(i) for i in range(1000)]\n",
        "for fname in fnames:\n",
        "    src = os.path.join(original_dataset_dir, fname)\n",
        "    dst = os.path.join(train_cats_dir, fname)\n",
        "    #print(src,dst)\n",
        "    shutil.copyfile(src, dst)\n",
        "    \n",
        "fnames = ['cat.{}.jpg'.format(i) for i in range(1000, 1500)]\n",
        "for fname in fnames:\n",
        "    src = os.path.join(original_dataset_dir, fname)\n",
        "    dst = os.path.join(validation_cats_dir, fname)\n",
        "    shutil.copyfile(src, dst)\n",
        "\n",
        "fnames = ['cat.{}.jpg'.format(i) for i in range(1500, 2000)]\n",
        "for fname in fnames:\n",
        "    src = os.path.join(original_dataset_dir, fname)\n",
        "    dst = os.path.join(test_cats_dir, fname)\n",
        "    shutil.copyfile(src, dst)\n",
        "    \n",
        "fnames = ['dog.{}.jpg'.format(i) for i in range(1000)]\n",
        "for fname in fnames:\n",
        "    src = os.path.join(original_dataset_dir, fname)\n",
        "    dst = os.path.join(train_dogs_dir, fname)\n",
        "    shutil.copyfile(src, dst)\n",
        "\n",
        "fnames = ['dog.{}.jpg'.format(i) for i in range(1000, 1500)]\n",
        "for fname in fnames:\n",
        "    src = os.path.join(original_dataset_dir, fname)\n",
        "    dst = os.path.join(validation_dogs_dir, fname)\n",
        "    shutil.copyfile(src, dst)\n",
        "\n",
        "fnames = ['dog.{}.jpg'.format(i) for i in range(1500, 2000)]\n",
        "for fname in fnames:\n",
        "    src = os.path.join(original_dataset_dir, fname)\n",
        "    dst = os.path.join(test_dogs_dir, fname)\n",
        "    shutil.copyfile(src, dst)"
      ],
      "execution_count": 6,
      "outputs": []
    },
    {
      "cell_type": "code",
      "metadata": {
        "id": "ul3XAbIyr7vC",
        "colab": {
          "base_uri": "https://localhost:8080/"
        },
        "outputId": "282d8dcf-3822-4488-d69d-3736ecf47a6d"
      },
      "source": [
        "print('total training cat images:', len(os.listdir(train_cats_dir)))\n",
        "print('total training dog images:', len(os.listdir(train_dogs_dir)))\n",
        "print('total validation cat images:', len(os.listdir(validation_cats_dir)))\n",
        "\n",
        "print('total validation dog images:', len(os.listdir(validation_dogs_dir)))\n",
        "print('total test cat images:', len(os.listdir(test_cats_dir)))\n",
        "print('total test dog images:', len(os.listdir(test_dogs_dir)))"
      ],
      "execution_count": 7,
      "outputs": [
        {
          "output_type": "stream",
          "text": [
            "total training cat images: 1000\n",
            "total training dog images: 1000\n",
            "total validation cat images: 500\n",
            "total validation dog images: 500\n",
            "total test cat images: 500\n",
            "total test dog images: 500\n"
          ],
          "name": "stdout"
        }
      ]
    },
    {
      "cell_type": "code",
      "metadata": {
        "id": "o9yTA21_r-ma",
        "colab": {
          "base_uri": "https://localhost:8080/"
        },
        "outputId": "217f2389-4d1e-45d5-f5b7-138d16c9371a"
      },
      "source": [
        "from keras import layers\n",
        "from keras import models\n",
        "\n",
        "model = models.Sequential()\n",
        "model.add(layers.Conv2D(32, (3, 3), activation='relu', input_shape=(150, 150, 3)))\n",
        "model.add(layers.MaxPooling2D((2, 2)))\n",
        "model.add(layers.Conv2D(64, (3, 3), activation='relu'))\n",
        "model.add(layers.MaxPooling2D((2, 2)))\n",
        "model.add(layers.Conv2D(128, (3, 3), activation='relu'))\n",
        "model.add(layers.MaxPooling2D((2, 2)))\n",
        "model.add(layers.Conv2D(128, (3, 3), activation='relu'))\n",
        "model.add(layers.MaxPooling2D((2, 2)))\n",
        "model.add(layers.Flatten())\n",
        "model.add(layers.Dense(512, activation='relu'))\n",
        "model.add(layers.Dense(1, activation='sigmoid'))\n",
        "model.summary()"
      ],
      "execution_count": 10,
      "outputs": [
        {
          "output_type": "stream",
          "text": [
            "Model: \"sequential_1\"\n",
            "_________________________________________________________________\n",
            "Layer (type)                 Output Shape              Param #   \n",
            "=================================================================\n",
            "conv2d_4 (Conv2D)            (None, 148, 148, 32)      896       \n",
            "_________________________________________________________________\n",
            "max_pooling2d_4 (MaxPooling2 (None, 74, 74, 32)        0         \n",
            "_________________________________________________________________\n",
            "conv2d_5 (Conv2D)            (None, 72, 72, 64)        18496     \n",
            "_________________________________________________________________\n",
            "max_pooling2d_5 (MaxPooling2 (None, 36, 36, 64)        0         \n",
            "_________________________________________________________________\n",
            "conv2d_6 (Conv2D)            (None, 34, 34, 128)       73856     \n",
            "_________________________________________________________________\n",
            "max_pooling2d_6 (MaxPooling2 (None, 17, 17, 128)       0         \n",
            "_________________________________________________________________\n",
            "conv2d_7 (Conv2D)            (None, 15, 15, 128)       147584    \n",
            "_________________________________________________________________\n",
            "max_pooling2d_7 (MaxPooling2 (None, 7, 7, 128)         0         \n",
            "_________________________________________________________________\n",
            "flatten_1 (Flatten)          (None, 6272)              0         \n",
            "_________________________________________________________________\n",
            "dense_2 (Dense)              (None, 512)               3211776   \n",
            "_________________________________________________________________\n",
            "dense_3 (Dense)              (None, 1)                 513       \n",
            "=================================================================\n",
            "Total params: 3,453,121\n",
            "Trainable params: 3,453,121\n",
            "Non-trainable params: 0\n",
            "_________________________________________________________________\n"
          ],
          "name": "stdout"
        }
      ]
    },
    {
      "cell_type": "code",
      "metadata": {
        "id": "2mG8wekxsBVS"
      },
      "source": [
        "from keras import optimizers\n",
        "model.compile(loss='binary_crossentropy', \n",
        "              optimizer=optimizers.RMSprop(lr=1e-4),\n",
        "              metrics=['accuracy'])"
      ],
      "execution_count": 11,
      "outputs": []
    },
    {
      "cell_type": "markdown",
      "metadata": {
        "id": "7zS4Klm8qWp6"
      },
      "source": [
        "## Using ImageDataGenerator to read images from directories\n",
        "As you know by now, data should be formatted into appropriately preprocessed floatingpoint tensors before being fed into the network. Currently, the data sits on a drive as JPEG files, so the steps for getting it into the network are roughly as follows:\n",
        "\n",
        "* Read the picture files.\n",
        "* Decode the JPEG content to RGB grids of pixels.\n",
        "* Convert these into floating-point tensors.\n",
        "* Rescale the pixel values (between 0 and 255) to the [0, 1] interval (as you know, neural networks prefer to deal with small input values).\n",
        "\n",
        "It may seem a bit daunting, but fortunately Keras has utilities to take care of these steps automatically. Keras has a module with image-processing helper tools, located at keras.preprocessing.image. In particular, it contains the class ImageDataGenerator,which lets you quickly set up Python generators that can automatically turn image files on disk into batches of preprocessed tensors."
      ]
    },
    {
      "cell_type": "code",
      "metadata": {
        "id": "XJ7XU7t9sEh6",
        "colab": {
          "base_uri": "https://localhost:8080/"
        },
        "outputId": "f17de15e-a2c3-4598-9dfc-dd909f53f4b1"
      },
      "source": [
        "from keras.preprocessing.image import ImageDataGenerator\n",
        "\n",
        "train_datagen = ImageDataGenerator(rescale=1./255)\n",
        "test_datagen = ImageDataGenerator(rescale=1./255)\n",
        "\n",
        "train_generator = train_datagen.flow_from_directory(train_dir,\n",
        "                                                    target_size=(150, 150), \n",
        "                                                    batch_size=20,\n",
        "                                                    class_mode='binary')\n",
        "\n",
        "validation_generator = test_datagen.flow_from_directory(validation_dir,\n",
        "                                                        target_size=(150, 150),\n",
        "                                                        batch_size=20,\n",
        "                                                        class_mode='binary')"
      ],
      "execution_count": 12,
      "outputs": [
        {
          "output_type": "stream",
          "text": [
            "Found 2000 images belonging to 2 classes.\n",
            "Found 1000 images belonging to 2 classes.\n"
          ],
          "name": "stdout"
        }
      ]
    },
    {
      "cell_type": "markdown",
      "metadata": {
        "id": "SEgLywySqm4u"
      },
      "source": [
        "Let’s fit the model to the data using the generator. You do so using the fit_generator method, the equivalent of fit for data generators like this one. It expects as its first argument a Python generator that will yield batches of inputs and targets indefinitely,like this one does. Because the data is being generated endlessly, the Keras model needs to know how many samples to draw from the generator before declaring anepoch over. This is the role of the `steps_per_epoch` argument: after having drawn `steps_per_epoch` batches from the generator—that is, after having run for `steps_per_epoch` gradient descent steps—the fitting process will go to the next epoch. In this case, batches are 20 samples, so it will take 100 batches until you see your target of 2,000 samples.\n",
        "\n",
        "When using fit_generator, you can pass a validation_data argument, much as with the fit method. It’s important to note that this argument is allowed to be a data generator, but it could also be a tuple of Numpy arrays. If you pass a generator as validation_data, then this generator is expected to yield batches of validation data endlessly; thus you should also specify the validation_steps argument, which tells the process how many batches to draw from the validation generator for evaluation."
      ]
    },
    {
      "cell_type": "code",
      "metadata": {
        "id": "yMyfPphJsJG6",
        "colab": {
          "base_uri": "https://localhost:8080/"
        },
        "outputId": "9c2dc508-ee9b-466c-ff27-701499106372"
      },
      "source": [
        "history = model.fit_generator(train_generator,\n",
        "                              steps_per_epoch=100,\n",
        "                              epochs=30,\n",
        "                              validation_data=validation_generator,\n",
        "                              validation_steps=10)"
      ],
      "execution_count": 17,
      "outputs": [
        {
          "output_type": "stream",
          "text": [
            "/usr/local/lib/python3.7/dist-packages/tensorflow/python/keras/engine/training.py:1844: UserWarning: `Model.fit_generator` is deprecated and will be removed in a future version. Please use `Model.fit`, which supports generators.\n",
            "  warnings.warn('`Model.fit_generator` is deprecated and '\n"
          ],
          "name": "stderr"
        },
        {
          "output_type": "stream",
          "text": [
            "Epoch 1/30\n",
            "100/100 [==============================] - 10s 91ms/step - loss: 0.6985 - accuracy: 0.5241 - val_loss: 0.7050 - val_accuracy: 0.4650\n",
            "Epoch 2/30\n",
            "100/100 [==============================] - 9s 86ms/step - loss: 0.6587 - accuracy: 0.6173 - val_loss: 0.6497 - val_accuracy: 0.6100\n",
            "Epoch 3/30\n",
            "100/100 [==============================] - 9s 87ms/step - loss: 0.6169 - accuracy: 0.6577 - val_loss: 0.6110 - val_accuracy: 0.6300\n",
            "Epoch 4/30\n",
            "100/100 [==============================] - 9s 86ms/step - loss: 0.5709 - accuracy: 0.6954 - val_loss: 0.5813 - val_accuracy: 0.7000\n",
            "Epoch 5/30\n",
            "100/100 [==============================] - 9s 87ms/step - loss: 0.5348 - accuracy: 0.7258 - val_loss: 0.5535 - val_accuracy: 0.7100\n",
            "Epoch 6/30\n",
            "100/100 [==============================] - 9s 88ms/step - loss: 0.5047 - accuracy: 0.7527 - val_loss: 0.5685 - val_accuracy: 0.6950\n",
            "Epoch 7/30\n",
            "100/100 [==============================] - 9s 87ms/step - loss: 0.4632 - accuracy: 0.7975 - val_loss: 0.5662 - val_accuracy: 0.6950\n",
            "Epoch 8/30\n",
            "100/100 [==============================] - 9s 87ms/step - loss: 0.4485 - accuracy: 0.7895 - val_loss: 0.7111 - val_accuracy: 0.6250\n",
            "Epoch 9/30\n",
            "100/100 [==============================] - 9s 89ms/step - loss: 0.4285 - accuracy: 0.7864 - val_loss: 0.6145 - val_accuracy: 0.7100\n",
            "Epoch 10/30\n",
            "100/100 [==============================] - 9s 88ms/step - loss: 0.3855 - accuracy: 0.8235 - val_loss: 0.6022 - val_accuracy: 0.6550\n",
            "Epoch 11/30\n",
            "100/100 [==============================] - 9s 87ms/step - loss: 0.3631 - accuracy: 0.8437 - val_loss: 0.5768 - val_accuracy: 0.7050\n",
            "Epoch 12/30\n",
            "100/100 [==============================] - 9s 88ms/step - loss: 0.3330 - accuracy: 0.8604 - val_loss: 0.5717 - val_accuracy: 0.7200\n",
            "Epoch 13/30\n",
            "100/100 [==============================] - 9s 87ms/step - loss: 0.3137 - accuracy: 0.8713 - val_loss: 0.6296 - val_accuracy: 0.6850\n",
            "Epoch 14/30\n",
            "100/100 [==============================] - 9s 88ms/step - loss: 0.2848 - accuracy: 0.8820 - val_loss: 0.6846 - val_accuracy: 0.7250\n",
            "Epoch 15/30\n",
            "100/100 [==============================] - 9s 88ms/step - loss: 0.2575 - accuracy: 0.9040 - val_loss: 0.5458 - val_accuracy: 0.7600\n",
            "Epoch 16/30\n",
            "100/100 [==============================] - 9s 87ms/step - loss: 0.2262 - accuracy: 0.9162 - val_loss: 0.5597 - val_accuracy: 0.7800\n",
            "Epoch 17/30\n",
            "100/100 [==============================] - 9s 88ms/step - loss: 0.2006 - accuracy: 0.9282 - val_loss: 0.6746 - val_accuracy: 0.7350\n",
            "Epoch 18/30\n",
            "100/100 [==============================] - 9s 88ms/step - loss: 0.1850 - accuracy: 0.9312 - val_loss: 0.7752 - val_accuracy: 0.7050\n",
            "Epoch 19/30\n",
            "100/100 [==============================] - 9s 87ms/step - loss: 0.1684 - accuracy: 0.9385 - val_loss: 0.5442 - val_accuracy: 0.7550\n",
            "Epoch 20/30\n",
            "100/100 [==============================] - 9s 87ms/step - loss: 0.1501 - accuracy: 0.9543 - val_loss: 0.8446 - val_accuracy: 0.7000\n",
            "Epoch 21/30\n",
            "100/100 [==============================] - 9s 87ms/step - loss: 0.1398 - accuracy: 0.9506 - val_loss: 0.7088 - val_accuracy: 0.7000\n",
            "Epoch 22/30\n",
            "100/100 [==============================] - 9s 87ms/step - loss: 0.1090 - accuracy: 0.9725 - val_loss: 0.9807 - val_accuracy: 0.6950\n",
            "Epoch 23/30\n",
            "100/100 [==============================] - 9s 87ms/step - loss: 0.1033 - accuracy: 0.9620 - val_loss: 0.8069 - val_accuracy: 0.7000\n",
            "Epoch 24/30\n",
            "100/100 [==============================] - 9s 87ms/step - loss: 0.0808 - accuracy: 0.9804 - val_loss: 1.1474 - val_accuracy: 0.7250\n",
            "Epoch 25/30\n",
            "100/100 [==============================] - 9s 86ms/step - loss: 0.0633 - accuracy: 0.9860 - val_loss: 0.6944 - val_accuracy: 0.7200\n",
            "Epoch 26/30\n",
            "100/100 [==============================] - 9s 86ms/step - loss: 0.0615 - accuracy: 0.9836 - val_loss: 0.8713 - val_accuracy: 0.7250\n",
            "Epoch 27/30\n",
            "100/100 [==============================] - 9s 87ms/step - loss: 0.0546 - accuracy: 0.9867 - val_loss: 0.8638 - val_accuracy: 0.7400\n",
            "Epoch 28/30\n",
            "100/100 [==============================] - 9s 86ms/step - loss: 0.0366 - accuracy: 0.9931 - val_loss: 0.9766 - val_accuracy: 0.7200\n",
            "Epoch 29/30\n",
            "100/100 [==============================] - 9s 86ms/step - loss: 0.0365 - accuracy: 0.9906 - val_loss: 0.9284 - val_accuracy: 0.7550\n",
            "Epoch 30/30\n",
            "100/100 [==============================] - 9s 86ms/step - loss: 0.0298 - accuracy: 0.9942 - val_loss: 1.1026 - val_accuracy: 0.7600\n"
          ],
          "name": "stdout"
        }
      ]
    },
    {
      "cell_type": "code",
      "metadata": {
        "id": "MZaZ2HWZsNUi",
        "colab": {
          "base_uri": "https://localhost:8080/",
          "height": 545
        },
        "outputId": "153f0dc7-a887-4df6-e90e-2b23eb9d63cd"
      },
      "source": [
        "model.save('cats_and_dogs_small_1.h5')\n",
        "\n",
        "import matplotlib.pyplot as plt\n",
        "\n",
        "acc = history.history['accuracy']\n",
        "val_acc = history.history['val_accuracy']\n",
        "loss = history.history['loss']\n",
        "val_loss = history.history['val_loss']\n",
        "\n",
        "epochs = range(1, len(acc) + 1)\n",
        "\n",
        "plt.plot(epochs, acc, 'bo', label='Training acc')\n",
        "plt.plot(epochs, val_acc, 'b', label='Validation acc')\n",
        "plt.title('Training and validation accuracy')\n",
        "plt.legend()\n",
        "\n",
        "plt.figure()\n",
        "\n",
        "plt.plot(epochs, loss, 'bo', label='Training loss')\n",
        "plt.plot(epochs, val_loss, 'b', label='Validation loss')\n",
        "plt.title('Training and validation loss')\n",
        "plt.legend()\n",
        "\n",
        "plt.show()"
      ],
      "execution_count": 19,
      "outputs": [
        {
          "output_type": "display_data",
          "data": {
            "image/png": "[encoded data removed]",
            "text/plain": [
              "<Figure size 432x288 with 1 Axes>"
            ]
          },
          "metadata": {
            "tags": [],
            "needs_background": "light"
          }
        },
        {
          "output_type": "display_data",
          "data": {
            "image/png": "[encoded data removed]",
            "text/plain": [
              "<Figure size 432x288 with 1 Axes>"
            ]
          },
          "metadata": {
            "tags": [],
            "needs_background": "light"
          }
        }
      ]
    },
    {
      "cell_type": "markdown",
      "metadata": {
        "id": "XKZmXmBcq_8-"
      },
      "source": [
        "## Convolutional Networks with Dropout\n",
        "\n",
        "![alt text](https://camo.githubusercontent.com/ee6fa1073247cd2c3d241300caf110d7a7541bc5/68747470733a2f2f63646e2d696d616765732d312e6d656469756d2e636f6d2f6d61782f3830302f312a4972644a355067684439596f4f7956415137334d4a772e676966)\n",
        "\n",
        "Ref: https://github.com/mneha4/Training-Neural-Nets---Guidelines"
      ]
    },
    {
      "cell_type": "code",
      "metadata": {
        "id": "wu3cqeYQrDeN"
      },
      "source": [
        "from keras import layers\n",
        "from keras import models\n",
        "from keras import optimizers\n",
        "\n",
        "model = models.Sequential()\n",
        "model.add(layers.Conv2D(32, (3, 3), activation='relu', input_shape=(150, 150, 3)))\n",
        "model.add(layers.MaxPooling2D((2, 2)))\n",
        "model.add(layers.Conv2D(64, (3, 3), activation='relu'))\n",
        "model.add(layers.MaxPooling2D((2, 2)))\n",
        "model.add(layers.Conv2D(128, (3, 3), activation='relu'))\n",
        "model.add(layers.MaxPooling2D((2, 2)))\n",
        "model.add(layers.Conv2D(128, (3, 3), activation='relu'))\n",
        "model.add(layers.MaxPooling2D((2, 2)))\n",
        "model.add(layers.Flatten())\n",
        "model.add(layers.Dropout(0.2))\n",
        "model.add(layers.Dense(512, activation='relu'))\n",
        "model.add(layers.Dense(1, activation='sigmoid'))\n",
        "\n",
        "model.compile(loss='binary_crossentropy',\n",
        "              optimizer=optimizers.RMSprop(lr=1e-3),\n",
        "              metrics=['acc'])"
      ],
      "execution_count": 21,
      "outputs": []
    },
    {
      "cell_type": "code",
      "metadata": {
        "id": "QSeLpvY0rH7F",
        "colab": {
          "base_uri": "https://localhost:8080/"
        },
        "outputId": "87d87fe0-5b6f-4188-f6f2-72e3cecacfb3"
      },
      "source": [
        "\n",
        "train_datagen = ImageDataGenerator(rescale=1./255,\n",
        "                                   rotation_range=40,\n",
        "                                   width_shift_range=0.2,\n",
        "                                   height_shift_range=0.2,\n",
        "                                   shear_range=0.2,\n",
        "                                   zoom_range=0.2,\n",
        "                                   horizontal_flip=True,)\n",
        "\n",
        "test_datagen = ImageDataGenerator(rescale=1./255)\n",
        "\n",
        "train_generator = train_datagen.flow_from_directory(train_dir,\n",
        "                                                    target_size=(150, 150),\n",
        "                                                    batch_size=32,\n",
        "                                                    class_mode='binary')\n",
        "\n",
        "validation_generator = test_datagen.flow_from_directory(validation_dir,\n",
        "                                                        target_size=(150, 150),\n",
        "                                                        batch_size=32,\n",
        "                                                        class_mode='binary')\n",
        "\n",
        "history = model.fit_generator(train_generator,\n",
        "                              steps_per_epoch=50,\n",
        "                              epochs=30,\n",
        "                              validation_data=validation_generator,\n",
        "                              validation_steps=10)"
      ],
      "execution_count": 22,
      "outputs": [
        {
          "output_type": "stream",
          "text": [
            "Found 2000 images belonging to 2 classes.\n",
            "Found 1000 images belonging to 2 classes.\n"
          ],
          "name": "stdout"
        },
        {
          "output_type": "stream",
          "text": [
            "/usr/local/lib/python3.7/dist-packages/tensorflow/python/keras/engine/training.py:1844: UserWarning: `Model.fit_generator` is deprecated and will be removed in a future version. Please use `Model.fit`, which supports generators.\n",
            "  warnings.warn('`Model.fit_generator` is deprecated and '\n"
          ],
          "name": "stderr"
        },
        {
          "output_type": "stream",
          "text": [
            "Epoch 1/30\n",
            "50/50 [==============================] - 13s 251ms/step - loss: 0.9656 - acc: 0.5165 - val_loss: 0.6919 - val_acc: 0.4938\n",
            "Epoch 2/30\n",
            "50/50 [==============================] - 12s 245ms/step - loss: 0.7003 - acc: 0.5482 - val_loss: 0.6894 - val_acc: 0.6281\n",
            "Epoch 3/30\n",
            "50/50 [==============================] - 13s 251ms/step - loss: 0.7235 - acc: 0.5357 - val_loss: 0.6823 - val_acc: 0.5750\n",
            "Epoch 4/30\n",
            "50/50 [==============================] - 12s 249ms/step - loss: 0.6874 - acc: 0.5541 - val_loss: 0.6560 - val_acc: 0.6438\n",
            "Epoch 5/30\n",
            "50/50 [==============================] - 12s 248ms/step - loss: 0.6633 - acc: 0.5918 - val_loss: 0.8391 - val_acc: 0.5125\n",
            "Epoch 6/30\n",
            "50/50 [==============================] - 12s 249ms/step - loss: 0.6674 - acc: 0.6105 - val_loss: 0.6723 - val_acc: 0.5906\n",
            "Epoch 7/30\n",
            "50/50 [==============================] - 12s 250ms/step - loss: 0.6604 - acc: 0.6045 - val_loss: 0.6551 - val_acc: 0.6062\n",
            "Epoch 8/30\n",
            "50/50 [==============================] - 12s 247ms/step - loss: 0.6466 - acc: 0.6115 - val_loss: 0.6208 - val_acc: 0.6875\n",
            "Epoch 9/30\n",
            "50/50 [==============================] - 13s 250ms/step - loss: 0.6296 - acc: 0.6619 - val_loss: 0.6290 - val_acc: 0.6438\n",
            "Epoch 10/30\n",
            "50/50 [==============================] - 12s 249ms/step - loss: 0.6210 - acc: 0.6580 - val_loss: 0.6148 - val_acc: 0.6500\n",
            "Epoch 11/30\n",
            "50/50 [==============================] - 12s 249ms/step - loss: 0.6252 - acc: 0.6387 - val_loss: 0.5356 - val_acc: 0.7219\n",
            "Epoch 12/30\n",
            "50/50 [==============================] - 12s 248ms/step - loss: 0.6926 - acc: 0.6705 - val_loss: 0.6123 - val_acc: 0.6625\n",
            "Epoch 13/30\n",
            "50/50 [==============================] - 12s 249ms/step - loss: 0.6020 - acc: 0.6876 - val_loss: 0.7327 - val_acc: 0.6344\n",
            "Epoch 14/30\n",
            "50/50 [==============================] - 12s 249ms/step - loss: 0.5975 - acc: 0.6683 - val_loss: 0.6734 - val_acc: 0.5969\n",
            "Epoch 15/30\n",
            "50/50 [==============================] - 12s 249ms/step - loss: 0.6065 - acc: 0.6829 - val_loss: 0.5936 - val_acc: 0.6687\n",
            "Epoch 16/30\n",
            "50/50 [==============================] - 13s 252ms/step - loss: 0.6148 - acc: 0.6810 - val_loss: 0.7392 - val_acc: 0.6313\n",
            "Epoch 17/30\n",
            "50/50 [==============================] - 13s 254ms/step - loss: 0.6002 - acc: 0.6878 - val_loss: 0.5605 - val_acc: 0.7281\n",
            "Epoch 18/30\n",
            "50/50 [==============================] - 13s 252ms/step - loss: 0.5817 - acc: 0.7010 - val_loss: 0.5563 - val_acc: 0.6969\n",
            "Epoch 19/30\n",
            "50/50 [==============================] - 12s 249ms/step - loss: 0.5905 - acc: 0.7065 - val_loss: 0.5799 - val_acc: 0.6844\n",
            "Epoch 20/30\n",
            "50/50 [==============================] - 13s 250ms/step - loss: 0.5663 - acc: 0.6932 - val_loss: 0.6596 - val_acc: 0.6281\n",
            "Epoch 21/30\n",
            "50/50 [==============================] - 13s 252ms/step - loss: 0.5625 - acc: 0.7029 - val_loss: 0.5230 - val_acc: 0.7625\n",
            "Epoch 22/30\n",
            "50/50 [==============================] - 13s 251ms/step - loss: 0.5328 - acc: 0.7266 - val_loss: 0.5653 - val_acc: 0.7063\n",
            "Epoch 23/30\n",
            "50/50 [==============================] - 13s 251ms/step - loss: 0.5193 - acc: 0.7470 - val_loss: 0.5387 - val_acc: 0.7125\n",
            "Epoch 24/30\n",
            "50/50 [==============================] - 13s 251ms/step - loss: 0.5692 - acc: 0.7145 - val_loss: 0.5506 - val_acc: 0.7344\n",
            "Epoch 25/30\n",
            "50/50 [==============================] - 13s 250ms/step - loss: 0.5586 - acc: 0.7086 - val_loss: 0.4664 - val_acc: 0.7812\n",
            "Epoch 26/30\n",
            "50/50 [==============================] - 12s 248ms/step - loss: 0.5634 - acc: 0.6981 - val_loss: 0.5467 - val_acc: 0.7250\n",
            "Epoch 27/30\n",
            "50/50 [==============================] - 13s 251ms/step - loss: 0.5583 - acc: 0.7149 - val_loss: 0.4910 - val_acc: 0.7625\n",
            "Epoch 28/30\n",
            "50/50 [==============================] - 12s 249ms/step - loss: 0.5414 - acc: 0.7263 - val_loss: 0.5630 - val_acc: 0.7312\n",
            "Epoch 29/30\n",
            "50/50 [==============================] - 13s 251ms/step - loss: 0.5436 - acc: 0.7329 - val_loss: 0.5652 - val_acc: 0.7250\n",
            "Epoch 30/30\n",
            "50/50 [==============================] - 13s 251ms/step - loss: 0.5516 - acc: 0.7222 - val_loss: 0.4818 - val_acc: 0.7719\n"
          ],
          "name": "stdout"
        }
      ]
    },
    {
      "cell_type": "markdown",
      "metadata": {
        "id": "BRdU5yrkUF_b"
      },
      "source": [
        "# Task 2:\n",
        "\n",
        "We have used Dropout to enhance the performance of the CNN model. Can you please use whatever you like to further enhance the performance from `val_acc: 0.7506`? "
      ]
    }
  ]
}